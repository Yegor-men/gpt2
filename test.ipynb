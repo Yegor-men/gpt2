{
 "cells": [
  {
   "cell_type": "code",
   "id": "initial_id",
   "metadata": {
    "collapsed": true,
    "ExecuteTime": {
     "end_time": "2025-04-04T08:05:32.509036Z",
     "start_time": "2025-04-04T08:05:32.507078Z"
    }
   },
   "source": [
    "import torch\n",
    "\n",
    "# device = \"cuda\" if torch.cuda.is_available() else \"cpu\"\n",
    "device = \"cuda\"\n",
    "\n",
    "torch.manual_seed(0)\n",
    "torch.cuda.manual_seed_all(0)"
   ],
   "outputs": [],
   "execution_count": 62
  },
  {
   "metadata": {
    "ExecuteTime": {
     "end_time": "2025-04-04T08:05:37.916035Z",
     "start_time": "2025-04-04T08:05:32.513276Z"
    }
   },
   "cell_type": "code",
   "source": [
    "from datasets import load_dataset\n",
    "from transformers import AutoTokenizer\n",
    "from torch.utils.data import DataLoader\n",
    "\n",
    "# 1. Load the Rotten Tomatoes dataset (with train, validation, test splits)\n",
    "dataset = load_dataset(\"rotten_tomatoes\")\n",
    "\n",
    "# 2. Use the GPT-2 tokenizer for a causal LM.\n",
    "# GPT-2 doesn't have a pad token by default, so set the pad token to the EOS token.\n",
    "tokenizer = AutoTokenizer.from_pretrained(\"gpt2\")\n",
    "tokenizer.pad_token = tokenizer.eos_token\n",
    "\n",
    "MAX_LENGTH = 64  # maximum context length for your model\n",
    "\n",
    "\n",
    "def tokenize_function(examples):\n",
    "    # Tokenize to MAX_LENGTH + 1 tokens to allow for shifting.\n",
    "    tokenized = tokenizer(\n",
    "        examples[\"text\"],\n",
    "        padding=\"max_length\",\n",
    "        truncation=True,\n",
    "        max_length=MAX_LENGTH + 1\n",
    "    )\n",
    "    # Save original tokenized ids\n",
    "    original_ids = tokenized[\"input_ids\"]\n",
    "    tokenized[\"input_ids\"] = [ids[:-1] for ids in original_ids]\n",
    "    tokenized[\"labels\"] = [ids[1:] for ids in original_ids]\n",
    "    tokenized[\"attention_mask\"] = [mask[:-1] for mask in tokenized[\"attention_mask\"]]\n",
    "    return tokenized\n",
    "\n",
    "\n",
    "\n",
    "# Apply tokenization to all splits and remove the raw text column.\n",
    "tokenized_dataset = dataset.map(tokenize_function, batched=True, remove_columns=[\"text\"])\n",
    "\n",
    "# 3. Set format for PyTorch\n",
    "for split in [\"train\", \"validation\", \"test\"]:\n",
    "    tokenized_dataset[split].set_format(\n",
    "        type=\"torch\",\n",
    "        columns=[\"input_ids\", \"attention_mask\", \"labels\"]\n",
    "    )\n",
    "\n",
    "# 4. Create DataLoaders for each split.\n",
    "BATCH_SIZE = 16\n",
    "\n",
    "train_dataloader = DataLoader(tokenized_dataset[\"train\"], batch_size=BATCH_SIZE, shuffle=True)\n",
    "validation_dataloader = DataLoader(tokenized_dataset[\"validation\"], batch_size=BATCH_SIZE)\n",
    "test_dataloader = DataLoader(tokenized_dataset[\"test\"], batch_size=BATCH_SIZE)\n",
    "\n",
    "# Your DataLoaders are now ready for use in your training loop for next-token prediction.\n"
   ],
   "id": "a679a0da0aa76710",
   "outputs": [],
   "execution_count": 63
  },
  {
   "metadata": {
    "ExecuteTime": {
     "end_time": "2025-04-04T08:05:37.936125Z",
     "start_time": "2025-04-04T08:05:37.933657Z"
    }
   },
   "cell_type": "code",
   "source": [
    "import torch\n",
    "from torch import nn\n",
    "\n",
    "class TransformerBlock(nn.Module):\n",
    "    def __init__(self, embed_dim, num_heads, dropout=0.0):\n",
    "        super().__init__()\n",
    "        # Linear projections for Q, K, V\n",
    "        self.queries = nn.LazyLinear(out_features=embed_dim)\n",
    "        self.keys = nn.LazyLinear(out_features=embed_dim)\n",
    "        self.values = nn.LazyLinear(out_features=embed_dim)\n",
    "\n",
    "        # Multi-head attention block (batch_first=True means inputs shape [batch, seq, embed_dim])\n",
    "        self.att_block = nn.MultiheadAttention(embed_dim=embed_dim, num_heads=num_heads, batch_first=True)\n",
    "\n",
    "        # Feedforward network\n",
    "        self.feedforward = nn.Sequential(\n",
    "            nn.LazyLinear(out_features=embed_dim * 4),\n",
    "            nn.LeakyReLU(),\n",
    "            nn.LazyLinear(out_features=embed_dim)\n",
    "        )\n",
    "\n",
    "        # Layer normalization layers\n",
    "        self.norm1 = nn.LayerNorm(embed_dim)\n",
    "        self.norm2 = nn.LayerNorm(embed_dim)\n",
    "\n",
    "        # Dropout layer for regularization\n",
    "        self.dropout = nn.Dropout(dropout)\n",
    "\n",
    "    def forward(self, token_sequence):\n",
    "        # Self-attention sub-layer with residual connection and normalization.\n",
    "        residual = token_sequence\n",
    "\n",
    "        # Linear projections for Q, K, V.\n",
    "        q = self.queries(token_sequence)\n",
    "        k = self.keys(token_sequence)\n",
    "        v = self.values(token_sequence)\n",
    "\n",
    "        # Apply multi-head attention.\n",
    "        att_output, _ = self.att_block(q, k, v)\n",
    "        att_output = self.dropout(att_output)\n",
    "\n",
    "        # Add residual and normalize.\n",
    "        x = self.norm1(residual + att_output)\n",
    "\n",
    "        # Feedforward sub-layer with residual connection and normalization.\n",
    "        residual2 = x\n",
    "        ff_output = self.feedforward(x)\n",
    "        ff_output = self.dropout(ff_output)\n",
    "        x = self.norm2(residual2 + ff_output)\n",
    "\n",
    "        return x\n"
   ],
   "id": "6d56f2e8b6777450",
   "outputs": [],
   "execution_count": 64
  },
  {
   "metadata": {
    "ExecuteTime": {
     "end_time": "2025-04-04T08:05:37.978507Z",
     "start_time": "2025-04-04T08:05:37.976825Z"
    }
   },
   "cell_type": "code",
   "source": [
    "import torch\n",
    "from torch import nn\n",
    "\n",
    "\n",
    "class Decoder(nn.Module):\n",
    "    def __init__(self, vocab_size):\n",
    "        super().__init__()\n",
    "        self.decoder = nn.Sequential(\n",
    "            nn.LazyLinear(out_features=vocab_size)\n",
    "        )\n",
    "\n",
    "    def forward(self, attended_sequence):\n",
    "        outputs = self.decoder(attended_sequence)\n",
    "        return outputs"
   ],
   "id": "e4b53d73e8c46f07",
   "outputs": [],
   "execution_count": 65
  },
  {
   "metadata": {
    "ExecuteTime": {
     "end_time": "2025-04-04T08:05:38.022489Z",
     "start_time": "2025-04-04T08:05:38.020061Z"
    }
   },
   "cell_type": "code",
   "source": [
    "import torch\n",
    "from torch import nn\n",
    "\n",
    "class Model(nn.Module):\n",
    "    def __init__(self, vocab_size, embed_dim, num_heads, num_transformer_blocks, max_sequence_length):\n",
    "        super().__init__()\n",
    "\n",
    "        self.embedding = nn.Embedding(vocab_size, embed_dim)\n",
    "        self.positional_embedding = nn.Embedding(max_sequence_length, embed_dim)\n",
    "\n",
    "        # Create a ModuleList of transformer blocks.\n",
    "        self.transformer_blocks = nn.ModuleList([\n",
    "            TransformerBlock(embed_dim=embed_dim, num_heads=num_heads)\n",
    "            for _ in range(num_transformer_blocks)\n",
    "        ])\n",
    "\n",
    "        self.decoder = Decoder(vocab_size=vocab_size)\n",
    "\n",
    "    def forward(self, tokenized_sequence):\n",
    "        \"\"\"\n",
    "        :param tokenized_sequence: Tensor of size [batch_size, sequence_length] with token IDs.\n",
    "        :return: Logits of shape [batch_size, sequence_length, vocab_size].\n",
    "        \"\"\"\n",
    "        batch_size, seq_length = tokenized_sequence.shape\n",
    "\n",
    "        # Embed tokens.\n",
    "        embedded_sequence = self.embedding(tokenized_sequence)  # Shape: [batch_size, seq_length, embed_dim]\n",
    "\n",
    "        # Create positional embeddings.\n",
    "        positions = torch.arange(seq_length, device=embedded_sequence.device).unsqueeze(0).expand(batch_size, seq_length)\n",
    "        pos_embeds = self.positional_embedding(positions)\n",
    "\n",
    "        # Sum token and positional embeddings.\n",
    "        x = embedded_sequence + pos_embeds\n",
    "\n",
    "        # Pass through the stacked transformer blocks.\n",
    "        for block in self.transformer_blocks:\n",
    "            x = block(x)\n",
    "\n",
    "        # Decoder projection to vocabulary logits.\n",
    "        predictions = self.decoder(x)\n",
    "        return predictions\n"
   ],
   "id": "cfed68e0d9fd7d60",
   "outputs": [],
   "execution_count": 66
  },
  {
   "metadata": {
    "ExecuteTime": {
     "end_time": "2025-04-04T08:05:38.259265Z",
     "start_time": "2025-04-04T08:05:38.063877Z"
    }
   },
   "cell_type": "code",
   "source": [
    "model = Model(\n",
    "    vocab_size=len(tokenizer.get_vocab()),\n",
    "    embed_dim=768,\n",
    "    num_heads=8,\n",
    "    num_transformer_blocks=10,\n",
    "    max_sequence_length=MAX_LENGTH,\n",
    ").to(device=device)"
   ],
   "id": "4ab07613c2f68954",
   "outputs": [],
   "execution_count": 67
  },
  {
   "metadata": {
    "jupyter": {
     "is_executing": true
    },
    "ExecuteTime": {
     "start_time": "2025-04-04T08:05:38.271417Z"
    }
   },
   "cell_type": "code",
   "source": [
    "import torch\n",
    "from torch import nn\n",
    "from tqdm import tqdm\n",
    "\n",
    "EPOCHS = 10\n",
    "LEARNING_RATE = 0.001\n",
    "\n",
    "LOSS_FN = nn.CrossEntropyLoss()\n",
    "OPTIMIZER = torch.optim.Adam(model.parameters(), lr=LEARNING_RATE)\n",
    "\n",
    "train_losses = []\n",
    "validation_losses = []\n",
    "test_losses = []\n",
    "\n",
    "for epoch in range(EPOCHS):\n",
    "    print(f\"E {(epoch + 1)}/{EPOCHS} - {((epoch + 1) / EPOCHS) * 100:.3f}%\")\n",
    "\n",
    "    train_loss = 0\n",
    "\n",
    "    model.train()\n",
    "\n",
    "    for index, batch in enumerate(tqdm(train_dataloader, desc=f\"\\tTrain\")):\n",
    "        model_input = batch[\"input_ids\"].to(device)\n",
    "        expected_output = batch[\"labels\"].to(device)\n",
    "\n",
    "        output = model(model_input)\n",
    "        loss = LOSS_FN(output.permute(0, 2, 1), expected_output)\n",
    "        train_loss += loss.item()\n",
    "        loss.backward()\n",
    "        OPTIMIZER.step()\n",
    "        OPTIMIZER.zero_grad()\n",
    "\n",
    "    train_loss /= len(train_dataloader)\n",
    "    train_losses.append(train_loss)\n",
    "\n",
    "    validation_loss = 0\n",
    "\n",
    "    with torch.no_grad():\n",
    "        for index, batch in enumerate(tqdm(validation_dataloader, desc=f\"\\tValidation\")):\n",
    "            model_input = batch[\"input_ids\"].to(device)\n",
    "            expected_output = batch[\"labels\"].to(device)\n",
    "\n",
    "            output = model(model_input)\n",
    "            loss = LOSS_FN(output.permute(0, 2, 1), expected_output)\n",
    "            validation_loss += loss.item()\n",
    "\n",
    "            if index == 0:\n",
    "                # probabilities = torch.softmax(output, dim=-1)\n",
    "                model_letters = torch.argmax(output, dim=-1)\n",
    "                for seq in model_letters:\n",
    "                    decoded_text = tokenizer.decode(seq.tolist(), skip_special_tokens=False)\n",
    "                    print(decoded_text)\n",
    "\n",
    "    validation_loss /= len(train_dataloader)\n",
    "    validation_losses.append(validation_loss)\n",
    "\n",
    "\n",
    "\n",
    "with torch.no_grad():\n",
    "    for index, batch in enumerate(tqdm(test_dataloader, desc=f\"\\tTest\")):\n",
    "        model_input = batch[\"input_ids\"].to(device)\n",
    "        expected_output = batch[\"labels\"].to(device)\n",
    "\n",
    "        output = model(model_input)\n",
    "        loss = LOSS_FN(output.permute(0, 2, 1), expected_output)\n",
    "\n",
    "        test_losses.append(loss.item())\n",
    "\n",
    "        # probabilities = torch.softmax(output, dim=-1)\n",
    "        model_letters = torch.argmax(output, dim=-1)\n",
    "        for seq in model_letters:\n",
    "            decoded_text = tokenizer.decode(seq.tolist(), skip_special_tokens=False)\n",
    "            print(decoded_text)\n",
    "\n"
   ],
   "id": "1272edd8aae82b70",
   "outputs": [
    {
     "name": "stdout",
     "output_type": "stream",
     "text": [
      "E 1/10 - 10.000%\n"
     ]
    },
    {
     "name": "stderr",
     "output_type": "stream",
     "text": [
      "\tTrain:  13%|█▎        | 70/534 [00:04<00:34, 13.48it/s]"
     ]
    }
   ],
   "execution_count": null
  },
  {
   "metadata": {},
   "cell_type": "code",
   "source": [
    "import matplotlib.pyplot as plt\n",
    "\n",
    "fig, axes = plt.subplots(1, 2, figsize=(10, 5))\n",
    "\n",
    "axes = axes.flatten()\n",
    "\n",
    "axes[0].plot(train_losses, label=\"Train loss\")\n",
    "axes[0].plot(validation_losses, label=\"Validation loss\")\n",
    "axes[0].set_title(\"Loss during training\")\n",
    "axes[0].legend()\n",
    "\n",
    "axes[1].plot(test_losses, label=\"Test loss\")\n",
    "axes[1].set_title(\"Post training loss\")\n",
    "axes[1].legend()\n",
    "\n",
    "plt.tight_layout()\n",
    "\n",
    "plt.show()"
   ],
   "id": "b2faee6e8eeb064f",
   "outputs": [],
   "execution_count": null
  }
 ],
 "metadata": {
  "kernelspec": {
   "display_name": "Python 3",
   "language": "python",
   "name": "python3"
  },
  "language_info": {
   "codemirror_mode": {
    "name": "ipython",
    "version": 2
   },
   "file_extension": ".py",
   "mimetype": "text/x-python",
   "name": "python",
   "nbconvert_exporter": "python",
   "pygments_lexer": "ipython2",
   "version": "2.7.6"
  }
 },
 "nbformat": 4,
 "nbformat_minor": 5
}
