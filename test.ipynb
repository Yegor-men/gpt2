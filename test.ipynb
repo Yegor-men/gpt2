{
 "cells": [
  {
   "cell_type": "code",
   "id": "initial_id",
   "metadata": {
    "collapsed": true,
    "ExecuteTime": {
     "end_time": "2025-04-02T06:18:43.017091Z",
     "start_time": "2025-04-02T06:18:43.015265Z"
    }
   },
   "source": [
    "import torch\n",
    "\n",
    "# device = \"cuda\" if torch.cuda.is_available() else \"cpu\"\n",
    "device = \"cuda\"\n",
    "\n",
    "torch.manual_seed(0)\n",
    "torch.cuda.manual_seed_all(0)"
   ],
   "outputs": [],
   "execution_count": 18
  },
  {
   "metadata": {
    "ExecuteTime": {
     "end_time": "2025-04-02T06:18:43.024476Z",
     "start_time": "2025-04-02T06:18:43.018552Z"
    }
   },
   "cell_type": "code",
   "source": [
    "import torch\n",
    "\n",
    "\n",
    "class Tokenizer:\n",
    "    def __init__(self, string: str, special_tokens: list):\n",
    "        unique_list = sorted(set(string))\n",
    "        unique_list.extend(special_tokens)\n",
    "        self.letter_to_index = {letter: index for index, letter in enumerate(unique_list)}\n",
    "        self.index_to_letter = {index: letter for index, letter in enumerate(unique_list)}\n",
    "\n",
    "    def tokenize(self, string) -> torch.Tensor:\n",
    "        string = list(string)\n",
    "        tokenized_string = [self.letter_to_index[letter] for letter in string]\n",
    "        tokens_tensor = torch.tensor(tokenized_string, dtype=torch.int)\n",
    "        return tokens_tensor.to(device=device)\n",
    "\n",
    "    def get_vocab_size(self):\n",
    "        return len(self.letter_to_index)\n",
    "\n",
    "\n",
    "tokenizer_text_to_sample = \"qwertyuiop[]\\\\asdfghjkl;\\'zxcvbnm,./QWERTYUIOP{}|ASDFGHJKL:\\\"ZXCVBNM<>?1234567890-=`!@#$%^&*()_+~ \"\n",
    "special_tokens = [\n",
    "    \"<model>\", \"</model>\",\n",
    "    \"<user>\", \"</user>\",\n",
    "    \"<system>\", \"</system>\",\n",
    "]\n",
    "tokenizer = Tokenizer(tokenizer_text_to_sample, special_tokens)"
   ],
   "id": "1aefc2e3fb477a74",
   "outputs": [],
   "execution_count": 19
  },
  {
   "metadata": {
    "ExecuteTime": {
     "end_time": "2025-04-02T06:18:43.063773Z",
     "start_time": "2025-04-02T06:18:43.061579Z"
    }
   },
   "cell_type": "code",
   "source": [
    "import torch\n",
    "from torch import nn\n",
    "\n",
    "\n",
    "class TransformerBlock(nn.Module):\n",
    "    def __init__(self, embed_dim, num_heads):\n",
    "        super().__init__()\n",
    "        self.att_block = nn.MultiheadAttention(embed_dim=embed_dim, num_heads=num_heads, batch_first=True)\n",
    "        self.feedforward = nn.Sequential(\n",
    "            nn.LazyLinear(out_features=embed_dim * 4),\n",
    "            nn.LeakyReLU(),\n",
    "            nn.LazyLinear(out_features=embed_dim)\n",
    "        )\n",
    "        self.queries = nn.LazyLinear(out_features=embed_dim)\n",
    "        self.keys = nn.LazyLinear(out_features=embed_dim)\n",
    "        self.values = nn.LazyLinear(out_features=embed_dim)\n",
    "\n",
    "    def forward(self, token_sequence):\n",
    "        q = self.queries(token_sequence)\n",
    "        k = self.queries(token_sequence)\n",
    "        v = self.queries(token_sequence)\n",
    "\n",
    "        attended_sequence, att_output_weights = self.att_block(q, k, v)\n",
    "\n",
    "        fed_forwards_sequence = self.feedforward(attended_sequence)\n",
    "\n",
    "        return fed_forwards_sequence\n"
   ],
   "id": "6d56f2e8b6777450",
   "outputs": [],
   "execution_count": 20
  },
  {
   "metadata": {
    "ExecuteTime": {
     "end_time": "2025-04-02T06:18:43.108208Z",
     "start_time": "2025-04-02T06:18:43.106469Z"
    }
   },
   "cell_type": "code",
   "source": [
    "import torch\n",
    "from torch import nn\n",
    "\n",
    "\n",
    "class Decoder(nn.Module):\n",
    "    def __init__(self, vocab_size):\n",
    "        super().__init__()\n",
    "        self.decoder = nn.Sequential(\n",
    "            nn.LazyLinear(out_features=vocab_size * 4),\n",
    "            nn.LeakyReLU(),\n",
    "            nn.LazyLinear(out_features=vocab_size)\n",
    "        )\n",
    "\n",
    "    def forward(self, attended_sequence):\n",
    "        outputs = self.decoder(attended_sequence)\n",
    "        return outputs"
   ],
   "id": "e4b53d73e8c46f07",
   "outputs": [],
   "execution_count": 21
  },
  {
   "metadata": {
    "ExecuteTime": {
     "end_time": "2025-04-02T06:18:43.152550Z",
     "start_time": "2025-04-02T06:18:43.150395Z"
    }
   },
   "cell_type": "code",
   "source": [
    "import torch\n",
    "from torch import nn\n",
    "\n",
    "\n",
    "class Model(nn.Module):\n",
    "    def __init__(self, vocab_size, embed_dim, num_heads, num_transformer_blocks):\n",
    "        super().__init__()\n",
    "\n",
    "        self.embedding = nn.Embedding(vocab_size, embed_dim).to(device=device)\n",
    "        self.transformer_blocks = [TransformerBlock(embed_dim=embed_dim, num_heads=num_heads).to(device=device) for _ in\n",
    "                                   range(num_transformer_blocks)]\n",
    "        self.decoder = Decoder(vocab_size).to(device=device)\n",
    "\n",
    "    def forward(self, tokenized_sequence):\n",
    "        embedded_sequence = self.embedding(tokenized_sequence)\n",
    "        for i in range(len(self.transformer_blocks)):\n",
    "            embedded_sequence = self.transformer_blocks[i](embedded_sequence)\n",
    "        predictions = self.decoder(embedded_sequence)\n",
    "        return predictions"
   ],
   "id": "cfed68e0d9fd7d60",
   "outputs": [],
   "execution_count": 22
  },
  {
   "metadata": {
    "ExecuteTime": {
     "end_time": "2025-04-02T06:18:43.232944Z",
     "start_time": "2025-04-02T06:18:43.194086Z"
    }
   },
   "cell_type": "code",
   "source": [
    "model = Model(\n",
    "    vocab_size=tokenizer.get_vocab_size(),\n",
    "    embed_dim=1024,\n",
    "    num_heads=4,\n",
    "    num_transformer_blocks=3,\n",
    ").to(device=device)\n",
    "\n",
    "sample_sentence = \"Hello World!\"\n",
    "tokenized_sentence = tokenizer.tokenize(sample_sentence)\n",
    "model_out = model(tokenized_sentence)\n",
    "print(model_out.size())"
   ],
   "id": "4ab07613c2f68954",
   "outputs": [
    {
     "name": "stdout",
     "output_type": "stream",
     "text": [
      "torch.Size([12, 101])\n"
     ]
    }
   ],
   "execution_count": 23
  }
 ],
 "metadata": {
  "kernelspec": {
   "display_name": "Python 3",
   "language": "python",
   "name": "python3"
  },
  "language_info": {
   "codemirror_mode": {
    "name": "ipython",
    "version": 2
   },
   "file_extension": ".py",
   "mimetype": "text/x-python",
   "name": "python",
   "nbconvert_exporter": "python",
   "pygments_lexer": "ipython2",
   "version": "2.7.6"
  }
 },
 "nbformat": 4,
 "nbformat_minor": 5
}
