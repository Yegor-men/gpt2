{
 "cells": [
  {
   "cell_type": "code",
   "id": "initial_id",
   "metadata": {
    "collapsed": true,
    "ExecuteTime": {
     "end_time": "2025-04-06T02:37:35.478523Z",
     "start_time": "2025-04-06T02:37:35.476281Z"
    }
   },
   "source": "device = \"cuda\"",
   "outputs": [],
   "execution_count": 1
  },
  {
   "metadata": {
    "ExecuteTime": {
     "end_time": "2025-04-06T02:37:37.558715Z",
     "start_time": "2025-04-06T02:37:35.526219Z"
    }
   },
   "cell_type": "code",
   "source": [
    "from transformers import AutoTokenizer\n",
    "\n",
    "tokenizer = AutoTokenizer.from_pretrained(\"gpt2\")\n",
    "tokenizer.pad_token = tokenizer.eos_token"
   ],
   "id": "1a384509a5beb5a",
   "outputs": [
    {
     "name": "stderr",
     "output_type": "stream",
     "text": [
      "/home/yegor/miniconda3/envs/ptorch/lib/python3.11/site-packages/tqdm/auto.py:21: TqdmWarning: IProgress not found. Please update jupyter and ipywidgets. See https://ipywidgets.readthedocs.io/en/stable/user_install.html\n",
      "  from .autonotebook import tqdm as notebook_tqdm\n"
     ]
    }
   ],
   "execution_count": 2
  },
  {
   "metadata": {
    "ExecuteTime": {
     "end_time": "2025-04-06T02:37:37.598980Z",
     "start_time": "2025-04-06T02:37:37.596204Z"
    }
   },
   "cell_type": "code",
   "source": [
    "import torch\n",
    "from torch import nn\n",
    "\n",
    "\n",
    "class TransformerBlock(nn.Module):\n",
    "    def __init__(self, embed_dim, num_heads, dropout=0.0):\n",
    "        super().__init__()\n",
    "        # Linear projections for Q, K, V\n",
    "        self.queries = nn.LazyLinear(out_features=embed_dim)\n",
    "        self.keys = nn.LazyLinear(out_features=embed_dim)\n",
    "        self.values = nn.LazyLinear(out_features=embed_dim)\n",
    "\n",
    "        # Multi-head attention block (batch_first=True means inputs shape [batch, seq, embed_dim])\n",
    "        self.att_block = nn.MultiheadAttention(embed_dim=embed_dim, num_heads=num_heads, batch_first=True)\n",
    "\n",
    "        # Feedforward network\n",
    "        self.feedforward = nn.Sequential(\n",
    "            nn.LazyLinear(out_features=embed_dim * 4),\n",
    "            nn.LeakyReLU(),\n",
    "            nn.LazyLinear(out_features=embed_dim)\n",
    "        )\n",
    "\n",
    "        # Layer normalization layers\n",
    "        self.norm1 = nn.LayerNorm(embed_dim)\n",
    "        self.norm2 = nn.LayerNorm(embed_dim)\n",
    "\n",
    "        # Dropout layer for regularization\n",
    "        self.dropout = nn.Dropout(dropout)\n",
    "\n",
    "    def forward(self, x, key_padding_mask=None):\n",
    "        # Self-attention sub-layer with residual connection and normalization.\n",
    "        residual = x\n",
    "\n",
    "        # Linear projections for Q, K, V.\n",
    "        q, k, v = self.queries(x), self.keys(x), self.values(x)\n",
    "\n",
    "        seq_len = x.size(1)\n",
    "        causal_mask = torch.tril(torch.ones(seq_len, seq_len, device=x.device)).bool()\n",
    "        attn_out, _ = self.att_block(\n",
    "            q, k, v,\n",
    "            attn_mask=~causal_mask,  # mask future tokens\n",
    "            key_padding_mask=key_padding_mask  # mask pads\n",
    "        )\n",
    "\n",
    "        attn_out = self.dropout(attn_out)\n",
    "        x = self.norm1(residual + attn_out)\n",
    "\n",
    "        # Feedforward sub-layer with residual connection and normalization.\n",
    "        residual2 = x\n",
    "        ff_output = self.feedforward(x)\n",
    "        ff_output = self.dropout(ff_output)\n",
    "        x = self.norm2(residual2 + ff_output)\n",
    "\n",
    "        return x\n"
   ],
   "id": "4dd3d645a1b92d59",
   "outputs": [],
   "execution_count": 3
  },
  {
   "metadata": {
    "ExecuteTime": {
     "end_time": "2025-04-06T02:37:37.644366Z",
     "start_time": "2025-04-06T02:37:37.642763Z"
    }
   },
   "cell_type": "code",
   "source": [
    "import torch\n",
    "from torch import nn\n",
    "\n",
    "\n",
    "class Decoder(nn.Module):\n",
    "    def __init__(self, vocab_size):\n",
    "        super().__init__()\n",
    "        self.decoder = nn.Sequential(\n",
    "            nn.LazyLinear(out_features=vocab_size)\n",
    "        )\n",
    "\n",
    "    def forward(self, attended_sequence):\n",
    "        outputs = self.decoder(attended_sequence)\n",
    "        return outputs"
   ],
   "id": "f11b5b5fff2e95af",
   "outputs": [],
   "execution_count": 4
  },
  {
   "metadata": {
    "ExecuteTime": {
     "end_time": "2025-04-06T02:37:37.687907Z",
     "start_time": "2025-04-06T02:37:37.685447Z"
    }
   },
   "cell_type": "code",
   "source": [
    "import torch\n",
    "from torch import nn\n",
    "\n",
    "\n",
    "class Model(nn.Module):\n",
    "    def __init__(self, vocab_size, embed_dim, num_heads, num_transformer_blocks, max_sequence_length):\n",
    "        super().__init__()\n",
    "\n",
    "        self.embedding = nn.Embedding(vocab_size, embed_dim)\n",
    "        self.positional_embedding = nn.Embedding(max_sequence_length, embed_dim)\n",
    "\n",
    "        # Create a ModuleList of transformer blocks.\n",
    "        self.transformer_blocks = nn.ModuleList([\n",
    "            TransformerBlock(embed_dim=embed_dim, num_heads=num_heads)\n",
    "            for _ in range(num_transformer_blocks)\n",
    "        ])\n",
    "\n",
    "        self.decoder = Decoder(vocab_size=vocab_size)\n",
    "\n",
    "    def forward(self, input_ids, attention_mask):\n",
    "        batch_size, seq_length = input_ids.shape\n",
    "\n",
    "        # Embed tokens.\n",
    "        embedded_sequence = self.embedding(input_ids)  # Shape: [batch_size, seq_length, embed_dim]\n",
    "\n",
    "        # Create positional embeddings.\n",
    "        positions = torch.arange(seq_length, device=embedded_sequence.device).unsqueeze(0).expand(batch_size,\n",
    "                                                                                                  seq_length)\n",
    "        pos_embeds = self.positional_embedding(positions)\n",
    "\n",
    "        # Sum token and positional embeddings.\n",
    "        x = embedded_sequence + pos_embeds\n",
    "\n",
    "        # Pass through the stacked transformer blocks.\n",
    "        for block in self.transformer_blocks:\n",
    "            x = block(x, key_padding_mask=(attention_mask == 0))\n",
    "\n",
    "        # Decoder projection to vocabulary logits.\n",
    "        predictions = self.decoder(x)\n",
    "        return predictions\n"
   ],
   "id": "4bcaf46f085ac842",
   "outputs": [],
   "execution_count": 5
  },
  {
   "metadata": {
    "ExecuteTime": {
     "end_time": "2025-04-06T02:37:37.733372Z",
     "start_time": "2025-04-06T02:37:37.731815Z"
    }
   },
   "cell_type": "code",
   "source": [
    "import torch\n",
    "\n",
    "model_path = \"models/vocabsize_(50257,)_embeddim_(768,)_numheads_(12,)_numtransformerblocks_(12,)_maxseqlen_(1024,)_E660_timestamp_20250406_070150.pt\"\n",
    "\n",
    "model = Model(\n",
    "    vocab_size=50257,\n",
    "    embed_dim=768,\n",
    "    num_heads=12,\n",
    "    num_transformer_blocks=12,\n",
    "    max_sequence_length=1024,\n",
    ").to(device)\n",
    "\n",
    "state_dict = torch.load(model_path, map_location=device)\n",
    "model.load_state_dict(state_dict)\n",
    "# print(model.positional_embedding)"
   ],
   "id": "8adabf68426b7515",
   "outputs": [],
   "execution_count": 6
  },
  {
   "metadata": {
    "ExecuteTime": {
     "end_time": "2025-04-06T02:37:37.787594Z",
     "start_time": "2025-04-06T02:37:37.783771Z"
    }
   },
   "cell_type": "code",
   "source": [
    "import torch\n",
    "import torch.nn.functional as F\n",
    "from torch.amp import autocast\n",
    "\n",
    "def generate_and_stream(\n",
    "        model,\n",
    "        tokenizer,\n",
    "        base_text: str,\n",
    "        max_gen_length: int = 100,\n",
    "        temperature: float = 1.0,\n",
    "        top_k: int = 50,\n",
    "        top_p: float = 0.9,\n",
    "        repetition_penalty: float = 1.2,\n",
    "        device: str = \"cuda\"\n",
    "):\n",
    "    model.eval()\n",
    "    generated = tokenizer.encode(base_text)  # list of token ids\n",
    "\n",
    "    # Figure out max context from your model's positional embeddings\n",
    "    max_context = model.positional_embedding.num_embeddings\n",
    "\n",
    "    # Print the prompt\n",
    "    print(base_text, end=\"\", flush=True)\n",
    "\n",
    "    with autocast(\"cuda\"), torch.no_grad():\n",
    "        for _ in range(max_gen_length):\n",
    "            # 1) Prepare inputs, truncate to last `max_context` tokens\n",
    "            context = generated[-max_context:]\n",
    "            input_ids = torch.tensor([context], device=device)\n",
    "            attention_mask = (input_ids != tokenizer.pad_token_id).long().to(device)\n",
    "\n",
    "            # 2) Forward pass\n",
    "            logits = model(input_ids, attention_mask)  # [1, seq_len, vocab_size]\n",
    "            next_logits = logits[:, -1, :]  # [1, vocab_size]\n",
    "\n",
    "            # 3) Repetition penalty\n",
    "            for token_id in set(generated):\n",
    "                if next_logits[0, token_id] < 0:\n",
    "                    next_logits[0, token_id] *= repetition_penalty\n",
    "                else:\n",
    "                    next_logits[0, token_id] /= repetition_penalty\n",
    "\n",
    "            # 4) Temperature\n",
    "            next_logits = next_logits / temperature\n",
    "\n",
    "            # 5) Top‑k\n",
    "            if top_k > 0:\n",
    "                vals, _ = torch.topk(next_logits, top_k)\n",
    "                threshold = vals[:, -1].unsqueeze(1)\n",
    "                next_logits = torch.where(\n",
    "                    next_logits < threshold,\n",
    "                    torch.full_like(next_logits, -float(\"Inf\")),\n",
    "                    next_logits\n",
    "                )\n",
    "\n",
    "            # 6) Top‑p (nucleus)\n",
    "            if top_p < 1.0:\n",
    "                sorted_logits, sorted_idx = torch.sort(next_logits, descending=True)\n",
    "                cum_probs = torch.cumsum(F.softmax(sorted_logits, dim=-1), dim=-1)\n",
    "\n",
    "                # mask tokens with cumulative prob above top_p\n",
    "                remove_mask = cum_probs > top_p\n",
    "                # always keep at least one\n",
    "                remove_mask[:, 1:] = remove_mask[:, :-1].clone()\n",
    "                remove_mask[:, 0] = False\n",
    "\n",
    "                # scatter back to original ordering\n",
    "                to_remove = remove_mask.scatter(1, sorted_idx, remove_mask)\n",
    "                next_logits = next_logits.masked_fill(to_remove, -float(\"Inf\"))\n",
    "\n",
    "            # 7) Sample\n",
    "            probs = F.softmax(next_logits, dim=-1)\n",
    "            next_id = torch.multinomial(probs, num_samples=1).item()\n",
    "\n",
    "            # 8) Stream the token\n",
    "            token_str = tokenizer.decode([next_id], skip_special_tokens=False)\n",
    "            print(token_str, end=\"\", flush=True)\n",
    "\n",
    "            generated.append(next_id)\n",
    "            if next_id == tokenizer.eos_token_id:\n",
    "                break\n",
    "\n",
    "    print()  # newline at end\n",
    "    return tokenizer.decode(generated, skip_special_tokens=True)"
   ],
   "id": "96eb7436393b1a04",
   "outputs": [],
   "execution_count": 7
  },
  {
   "metadata": {
    "ExecuteTime": {
     "end_time": "2025-04-06T02:37:37.877071Z",
     "start_time": "2025-04-06T02:37:37.827929Z"
    }
   },
   "cell_type": "code",
   "source": [
    "BASE_TEXT = \"compassionately explores the seemingly irreconcilable situation between conservative christian parents and their estranged gay and lesbian children\"\n",
    "\n",
    "full_text = generate_and_stream(\n",
    "    model,\n",
    "    tokenizer,\n",
    "    base_text=BASE_TEXT,\n",
    "    max_gen_length=200,\n",
    "    temperature=0.8,\n",
    "    top_k=50,\n",
    "    top_p=0.95,\n",
    "    repetition_penalty=1.1,\n",
    "    device=device\n",
    ")\n"
   ],
   "id": "7af6507b2adedb1c",
   "outputs": [
    {
     "ename": "NameError",
     "evalue": "name 'model' is not defined",
     "output_type": "error",
     "traceback": [
      "\u001B[31m---------------------------------------------------------------------------\u001B[39m",
      "\u001B[31mNameError\u001B[39m                                 Traceback (most recent call last)",
      "\u001B[36mCell\u001B[39m\u001B[36m \u001B[39m\u001B[32mIn[8]\u001B[39m\u001B[32m, line 4\u001B[39m\n\u001B[32m      1\u001B[39m BASE_TEXT = \u001B[33m\"\u001B[39m\u001B[33mcompassionately explores the seemingly irreconcilable situation between conservative christian parents and their estranged gay and lesbian children\u001B[39m\u001B[33m\"\u001B[39m\n\u001B[32m      3\u001B[39m full_text = generate_and_stream(\n\u001B[32m----> \u001B[39m\u001B[32m4\u001B[39m     \u001B[43mmodel\u001B[49m,\n\u001B[32m      5\u001B[39m     tokenizer,\n\u001B[32m      6\u001B[39m     base_text=BASE_TEXT,\n\u001B[32m      7\u001B[39m     max_gen_length=\u001B[32m200\u001B[39m,\n\u001B[32m      8\u001B[39m     temperature=\u001B[32m0.8\u001B[39m,\n\u001B[32m      9\u001B[39m     top_k=\u001B[32m50\u001B[39m,\n\u001B[32m     10\u001B[39m     top_p=\u001B[32m0.95\u001B[39m,\n\u001B[32m     11\u001B[39m     repetition_penalty=\u001B[32m1.1\u001B[39m,\n\u001B[32m     12\u001B[39m     device=device\n\u001B[32m     13\u001B[39m )\n",
      "\u001B[31mNameError\u001B[39m: name 'model' is not defined"
     ]
    }
   ],
   "execution_count": 8
  }
 ],
 "metadata": {
  "kernelspec": {
   "display_name": "Python 3",
   "language": "python",
   "name": "python3"
  },
  "language_info": {
   "codemirror_mode": {
    "name": "ipython",
    "version": 2
   },
   "file_extension": ".py",
   "mimetype": "text/x-python",
   "name": "python",
   "nbconvert_exporter": "python",
   "pygments_lexer": "ipython2",
   "version": "2.7.6"
  }
 },
 "nbformat": 4,
 "nbformat_minor": 5
}
